{
 "cells": [
  {
   "cell_type": "code",
   "execution_count": 7,
   "metadata": {},
   "outputs": [],
   "source": [
    "# Libraries\n",
    "\n",
    "import pyodbc\n",
    "import pandas as pd\n",
    "from datetime import datetime\n",
    "import warnings\n",
    "warnings.filterwarnings('ignore')\n",
    "from pathlib import Path\n",
    "\n",
    "# Export file variables\n",
    "\n",
    "output_file = \"File_Name_\" + datetime.now().strftime(\"%Y%m%d%H%M%S\") + \".txt\"\n",
    "test_path = Path(\"C:/Users/jisbe/pyproject/automation-scripts/files\")\n",
    "prod_path = Path(\"C:/Users/...\")\n",
    "output_dir = test_path  # specify where you want file to be exported to\n",
    "\n",
    "# Create sql connection\n",
    "connection = pyodbc.connect(driver = '{SQL Server Native Client 11.0}', host = 'DESKTOP-OO0E6DB',  # update sql server name\n",
    "database = 'Repository', trusted_connection = 'yes')  # update database name\n",
    "\n",
    "\n",
    "# SQL command to read the data\n",
    "sqlQuery = \"SELECT * FROM TableName\"  # update table name\n",
    "\n",
    "df = pd.read_sql(sql = sqlQuery, con = connection)\n",
    "\n",
    "df['FileBatch_ID'] = df['FileBatch_ID'] + datetime.now().strftime(\"%Y%m%d%H%M%S\")  # field that generates batch id based on date/time stamp\n",
    "\n",
    "# Output to Excel\n",
    "output_dir.mkdir(parents=True, exist_ok=True)\n",
    "df.to_csv(output_dir / output_file, sep='|', index = False)"
   ]
  },
  {
   "cell_type": "code",
   "execution_count": null,
   "metadata": {},
   "outputs": [],
   "source": []
  }
 ],
 "metadata": {
  "interpreter": {
   "hash": "b3ba2566441a7c06988d0923437866b63cedc61552a5af99d1f4fb67d367b25f"
  },
  "kernelspec": {
   "display_name": "Python 3.9.12 ('base')",
   "language": "python",
   "name": "python3"
  },
  "language_info": {
   "codemirror_mode": {
    "name": "ipython",
    "version": 3
   },
   "file_extension": ".py",
   "mimetype": "text/x-python",
   "name": "python",
   "nbconvert_exporter": "python",
   "pygments_lexer": "ipython3",
   "version": "3.9.12"
  },
  "orig_nbformat": 4
 },
 "nbformat": 4,
 "nbformat_minor": 2
}
