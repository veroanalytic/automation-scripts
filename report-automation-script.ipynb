{
 "cells": [
  {
   "cell_type": "code",
   "execution_count": 6,
   "metadata": {},
   "outputs": [],
   "source": [
    "# Libraries\n",
    "\n",
    "import pyodbc\n",
    "import pandas as pd\n",
    "import os\n",
    "from datetime import datetime\n",
    "import warnings\n",
    "warnings.filterwarnings('ignore')\n",
    "from pathlib import Path\n",
    "\n",
    "# Export file variables\n",
    "\n",
    "last_month = (pd.Timestamp.now() - pd.offsets.Day(30))  # take last month as the reporting period for the output file name\n",
    "output_file = \"Report Month_\" + last_month.strftime(\"%b_%Y_%H%M%S\") + \".xlsx\"\n",
    "output_dir = Path(\"C:/Users/...\")\n",
    "\n",
    "# Create sql connection\n",
    "connection = pyodbc.connect(driver = '{SQL Server Native Client 11.0}', host = 'ServerName',\n",
    "database = 'DatabaseName', trusted_connection = 'yes')\n",
    "\n",
    "# SQL command to read the data\n",
    "sqlQuery = \"SELECT * FROM TableName\"  # update table name\n",
    "\n",
    "# Create Dataframe of SQL query\n",
    "df = pd.read_sql(sql = sqlQuery, con = connection)\n",
    "\n",
    "# Output to Excel\n",
    "output_dir.mkdir(parents=True, exist_ok=True)\n",
    "df.to_excel(output_dir / output_file, index = False)"
   ]
  },
  {
   "cell_type": "code",
   "execution_count": null,
   "metadata": {},
   "outputs": [],
   "source": []
  }
 ],
 "metadata": {
  "interpreter": {
   "hash": "b3ba2566441a7c06988d0923437866b63cedc61552a5af99d1f4fb67d367b25f"
  },
  "kernelspec": {
   "display_name": "Python 3.9.12 ('base')",
   "language": "python",
   "name": "python3"
  },
  "language_info": {
   "codemirror_mode": {
    "name": "ipython",
    "version": 3
   },
   "file_extension": ".py",
   "mimetype": "text/x-python",
   "name": "python",
   "nbconvert_exporter": "python",
   "pygments_lexer": "ipython3",
   "version": "3.9.12"
  },
  "orig_nbformat": 4
 },
 "nbformat": 4,
 "nbformat_minor": 2
}
